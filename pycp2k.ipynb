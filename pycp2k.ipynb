{
 "cells": [
  {
   "cell_type": "code",
   "execution_count": 1,
   "metadata": {},
   "outputs": [],
   "source": [
    "from pycp2k import CP2K\n",
    "from ase.lattice.cubic import Diamond"
   ]
  },
  {
   "cell_type": "code",
   "execution_count": 2,
   "metadata": {},
   "outputs": [],
   "source": [
    "#====================== Create the structure with ASE ==========================\n",
    "lattice = Diamond(directions=[[1, 0, 0], [0, 1, 0], [0, 0, 1]],\n",
    "                symbol='Si',\n",
    "                latticeconstant=5.430697500,\n",
    "                size=(1, 1, 1))"
   ]
  },
  {
   "cell_type": "code",
   "execution_count": 3,
   "metadata": {},
   "outputs": [],
   "source": [
    "#================= Define and setup the calculator object ======================\n",
    "calc = CP2K()\n",
    "calc.working_directory = \"./\"\n",
    "calc.project_name = \"si_bulk\"\n",
    "calc.mpi_n_processes = 1"
   ]
  },
  {
   "cell_type": "code",
   "execution_count": 4,
   "metadata": {},
   "outputs": [],
   "source": [
    "#================= An existing input file can be parsed  =======================\n",
    "# calc.parse(\"template.in\")"
   ]
  },
  {
   "cell_type": "code",
   "execution_count": 5,
   "metadata": {},
   "outputs": [],
   "source": [
    "#==================== Define shortcuts for easy access =========================\n",
    "CP2K_INPUT = calc.CP2K_INPUT\n",
    "GLOBAL = CP2K_INPUT.GLOBAL\n",
    "FORCE_EVAL = CP2K_INPUT.FORCE_EVAL_add()  # Repeatable items have to be first created\n",
    "SUBSYS = FORCE_EVAL.SUBSYS\n",
    "DFT = FORCE_EVAL.DFT\n",
    "SCF = DFT.SCF"
   ]
  },
  {
   "cell_type": "code",
   "execution_count": 6,
   "metadata": {},
   "outputs": [],
   "source": [
    "#======================= Write the simulation input ============================\n",
    "GLOBAL.Run_type = \"ENERGY_FORCE\"\n",
    "FORCE_EVAL.Method = \"Quickstep\"\n",
    "FORCE_EVAL.PRINT.FORCES.Section_parameters = \"ON\"\n",
    "DFT.Basis_set_file_name = \"BASIS_SET\"\n",
    "DFT.Potential_file_name = \"GTH_POTENTIALS\"\n",
    "DFT.QS.Eps_default = 1.0E-10\n",
    "DFT.MGRID.Ngrids = 4\n",
    "DFT.MGRID.Cutoff = 300\n",
    "DFT.MGRID.Rel_cutoff = 60\n",
    "DFT.XC.XC_FUNCTIONAL.Section_parameters = \"PADE\"\n",
    "SCF.Scf_guess = \"ATOMIC\"\n",
    "SCF.Eps_scf = 1.0E-7\n",
    "SCF.Max_scf = 300\n",
    "SCF.DIAGONALIZATION.Section_parameters = \"ON\"\n",
    "SCF.DIAGONALIZATION.Algorithm = \"STANDARD\"\n",
    "SCF.MIXING.Section_parameters = \"T\"\n",
    "SCF.MIXING.Method = \"BROYDEN_MIXING\"\n",
    "SCF.MIXING.Alpha = 0.4\n",
    "SCF.MIXING.Nbroyden = 8\n",
    "KIND = SUBSYS.KIND_add(\"Si\")  # Section_parameters can be provided as argument.\n",
    "KIND.Basis_set = \"DZVP-GTH-PADE\"\n",
    "KIND.Potential = \"GTH-PADE-q4\"\n",
    "calc.create_cell(SUBSYS, lattice)\n",
    "calc.create_coord(SUBSYS, lattice)"
   ]
  },
  {
   "cell_type": "code",
   "execution_count": 7,
   "metadata": {},
   "outputs": [
    {
     "name": "stdout",
     "output_type": "stream",
     "text": [
      "|============================ PYCP2K RUN STARTED ==============================|\n",
      "  >> CP2K version check...\n",
      "  >> Creating CP2K input file...\n",
      "  >> Performing syntax check on input file...\n",
      "  >> Running CP2K:\n",
      "     -CP2K version: 6.1\n",
      "     -CP2K revision: svn:18464\n",
      "     -CP2K command: cp2k.sopt\n",
      "  >> CP2K calculation finished succesfully!\n",
      "  >> Elapsed time: 0h:0m:57s\n",
      "|=========================== PYCP2K RUN FINISHED =============================|\n"
     ]
    }
   ],
   "source": [
    "#============ Run the simulation or just write the input file ================\n",
    "calc.write_input_file()\n",
    "calc.run()"
   ]
  },
  {
   "cell_type": "code",
   "execution_count": null,
   "metadata": {},
   "outputs": [],
   "source": []
  }
 ],
 "metadata": {
  "kernelspec": {
   "display_name": "Python 3",
   "language": "python",
   "name": "python3"
  },
  "language_info": {
   "codemirror_mode": {
    "name": "ipython",
    "version": 3
   },
   "file_extension": ".py",
   "mimetype": "text/x-python",
   "name": "python",
   "nbconvert_exporter": "python",
   "pygments_lexer": "ipython3",
   "version": "3.7.3"
  }
 },
 "nbformat": 4,
 "nbformat_minor": 2
}
