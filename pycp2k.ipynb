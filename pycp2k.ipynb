{
 "cells": [
  {
   "cell_type": "code",
   "execution_count": 1,
   "metadata": {},
   "outputs": [],
   "source": [
    "from pycp2k import CP2K\n",
    "from ase.lattice.cubic import Diamond"
   ]
  },
  {
   "cell_type": "code",
   "execution_count": 2,
   "metadata": {},
   "outputs": [],
   "source": [
    "#====================== Create the structure with ASE ==========================\n",
    "lattice = Diamond(directions=[[1, 0, 0], [0, 1, 0], [0, 0, 1]],\n",
    "                symbol='Si',\n",
    "                latticeconstant=5.430697500,\n",
    "                size=(1, 1, 1))"
   ]
  },
  {
   "cell_type": "code",
   "execution_count": 3,
   "metadata": {},
   "outputs": [],
   "source": [
    "#================= Define and setup the calculator object ======================\n",
    "calc = CP2K()\n",
    "calc.working_directory = \"./\"\n",
    "calc.project_name = \"si_bulk\"\n",
    "calc.mpi_n_processes = 1"
   ]
  },
  {
   "cell_type": "code",
   "execution_count": 4,
   "metadata": {},
   "outputs": [],
   "source": [
    "#================= An existing input file can be parsed  =======================\n",
    "# calc.parse(\"template.in\")"
   ]
  },
  {
   "cell_type": "code",
   "execution_count": 5,
   "metadata": {},
   "outputs": [],
   "source": [
    "#==================== Define shortcuts for easy access =========================\n",
    "CP2K_INPUT = calc.CP2K_INPUT\n",
    "GLOBAL = CP2K_INPUT.GLOBAL\n",
    "FORCE_EVAL = CP2K_INPUT.FORCE_EVAL_add()  # Repeatable items have to be first created\n",
    "SUBSYS = FORCE_EVAL.SUBSYS\n",
    "DFT = FORCE_EVAL.DFT\n",
    "SCF = DFT.SCF"
   ]
  },
  {
   "cell_type": "code",
   "execution_count": 6,
   "metadata": {},
   "outputs": [],
   "source": [
    "#======================= Write the simulation input ============================\n",
    "GLOBAL.Run_type = \"ENERGY_FORCE\"\n",
    "FORCE_EVAL.Method = \"Quickstep\"\n",
    "FORCE_EVAL.PRINT.FORCES.Section_parameters = \"ON\"\n",
    "DFT.Basis_set_file_name = \"BASIS_SET\"\n",
    "DFT.Potential_file_name = \"GTH_POTENTIALS\"\n",
    "DFT.QS.Eps_default = 1.0E-10\n",
    "DFT.MGRID.Ngrids = 4\n",
    "DFT.MGRID.Cutoff = 300\n",
    "DFT.MGRID.Rel_cutoff = 60\n",
    "DFT.XC.XC_FUNCTIONAL.Section_parameters = \"PADE\"\n",
    "SCF.Scf_guess = \"ATOMIC\"\n",
    "SCF.Eps_scf = 1.0E-7\n",
    "SCF.Max_scf = 300\n",
    "SCF.DIAGONALIZATION.Section_parameters = \"ON\"\n",
    "SCF.DIAGONALIZATION.Algorithm = \"STANDARD\"\n",
    "SCF.MIXING.Section_parameters = \"T\"\n",
    "SCF.MIXING.Method = \"BROYDEN_MIXING\"\n",
    "SCF.MIXING.Alpha = 0.4\n",
    "SCF.MIXING.Nbroyden = 8\n",
    "KIND = SUBSYS.KIND_add(\"Si\")  # Section_parameters can be provided as argument.\n",
    "KIND.Basis_set = \"DZVP-GTH-PADE\"\n",
    "KIND.Potential = \"GTH-PADE-q4\"\n",
    "calc.create_cell(SUBSYS, lattice)\n",
    "calc.create_coord(SUBSYS, lattice)"
   ]
  },
  {
   "cell_type": "code",
   "execution_count": 7,
   "metadata": {},
   "outputs": [
    {
     "name": "stdout",
     "output_type": "stream",
     "text": [
      "|============================ PYCP2K RUN STARTED ==============================|\n",
      "  >> CP2K version check...\n",
      "  >> Creating CP2K input file...\n",
      "  >> Performing syntax check on input file...\n",
      "  >> Running CP2K:\n",
      "     -CP2K version: 6.1\n",
      "     -CP2K revision: svn:18464\n",
      "     -CP2K command: cp2k.sopt\n",
      "\n",
      "        |========================== ERROR ============================|\n",
      "        |  Error occured during CP2K calculation. See the output from  |\n",
      "        |  .//si_bulk.out for further details.                         |\n",
      "        |--------------------------------------------------------------|\n",
      "\n"
     ]
    },
    {
     "ename": "CalledProcessError",
     "evalue": "Command 'cp2k.sopt -o .//si_bulk.out -i .//si_bulk.inp' returned non-zero exit status 134.",
     "output_type": "error",
     "traceback": [
      "\u001b[0;31m---------------------------------------------------------------------------\u001b[0m",
      "\u001b[0;31mCalledProcessError\u001b[0m                        Traceback (most recent call last)",
      "\u001b[0;32m<ipython-input-7-9df050a33d76>\u001b[0m in \u001b[0;36m<module>\u001b[0;34m\u001b[0m\n\u001b[1;32m      1\u001b[0m \u001b[0;31m#============ Run the simulation or just write the input file ================\u001b[0m\u001b[0;34m\u001b[0m\u001b[0;34m\u001b[0m\u001b[0;34m\u001b[0m\u001b[0m\n\u001b[1;32m      2\u001b[0m \u001b[0mcalc\u001b[0m\u001b[0;34m.\u001b[0m\u001b[0mwrite_input_file\u001b[0m\u001b[0;34m(\u001b[0m\u001b[0;34m)\u001b[0m\u001b[0;34m\u001b[0m\u001b[0;34m\u001b[0m\u001b[0m\n\u001b[0;32m----> 3\u001b[0;31m \u001b[0mcalc\u001b[0m\u001b[0;34m.\u001b[0m\u001b[0mrun\u001b[0m\u001b[0;34m(\u001b[0m\u001b[0;34m)\u001b[0m\u001b[0;34m\u001b[0m\u001b[0;34m\u001b[0m\u001b[0m\n\u001b[0m",
      "\u001b[0;32m/srv/conda/envs/notebook/lib/python3.7/site-packages/pycp2k/cp2k.py\u001b[0m in \u001b[0;36mrun\u001b[0;34m(self, print_input)\u001b[0m\n\u001b[1;32m    334\u001b[0m         \u001b[0mstart\u001b[0m \u001b[0;34m=\u001b[0m \u001b[0mtime\u001b[0m\u001b[0;34m.\u001b[0m\u001b[0mtime\u001b[0m\u001b[0;34m(\u001b[0m\u001b[0;34m)\u001b[0m\u001b[0;34m\u001b[0m\u001b[0;34m\u001b[0m\u001b[0m\n\u001b[1;32m    335\u001b[0m         \u001b[0;32mtry\u001b[0m\u001b[0;34m:\u001b[0m\u001b[0;34m\u001b[0m\u001b[0;34m\u001b[0m\u001b[0m\n\u001b[0;32m--> 336\u001b[0;31m             \u001b[0mcheck_output\u001b[0m\u001b[0;34m(\u001b[0m\u001b[0mcommand_string\u001b[0m\u001b[0;34m,\u001b[0m \u001b[0mshell\u001b[0m\u001b[0;34m=\u001b[0m\u001b[0;32mTrue\u001b[0m\u001b[0;34m,\u001b[0m \u001b[0mcwd\u001b[0m\u001b[0;34m=\u001b[0m\u001b[0mworking_directory\u001b[0m\u001b[0;34m)\u001b[0m\u001b[0;34m\u001b[0m\u001b[0;34m\u001b[0m\u001b[0m\n\u001b[0m\u001b[1;32m    337\u001b[0m         \u001b[0;32mexcept\u001b[0m \u001b[0mCalledProcessError\u001b[0m\u001b[0;34m:\u001b[0m\u001b[0;34m\u001b[0m\u001b[0;34m\u001b[0m\u001b[0m\n\u001b[1;32m    338\u001b[0m             \u001b[0merror_output_path\u001b[0m \u001b[0;34m=\u001b[0m \u001b[0mself\u001b[0m\u001b[0;34m.\u001b[0m\u001b[0moutput_path\u001b[0m\u001b[0;34m\u001b[0m\u001b[0;34m\u001b[0m\u001b[0m\n",
      "\u001b[0;32m/srv/conda/envs/notebook/lib/python3.7/subprocess.py\u001b[0m in \u001b[0;36mcheck_output\u001b[0;34m(timeout, *popenargs, **kwargs)\u001b[0m\n\u001b[1;32m    393\u001b[0m \u001b[0;34m\u001b[0m\u001b[0m\n\u001b[1;32m    394\u001b[0m     return run(*popenargs, stdout=PIPE, timeout=timeout, check=True,\n\u001b[0;32m--> 395\u001b[0;31m                **kwargs).stdout\n\u001b[0m\u001b[1;32m    396\u001b[0m \u001b[0;34m\u001b[0m\u001b[0m\n\u001b[1;32m    397\u001b[0m \u001b[0;34m\u001b[0m\u001b[0m\n",
      "\u001b[0;32m/srv/conda/envs/notebook/lib/python3.7/subprocess.py\u001b[0m in \u001b[0;36mrun\u001b[0;34m(input, capture_output, timeout, check, *popenargs, **kwargs)\u001b[0m\n\u001b[1;32m    485\u001b[0m         \u001b[0;32mif\u001b[0m \u001b[0mcheck\u001b[0m \u001b[0;32mand\u001b[0m \u001b[0mretcode\u001b[0m\u001b[0;34m:\u001b[0m\u001b[0;34m\u001b[0m\u001b[0;34m\u001b[0m\u001b[0m\n\u001b[1;32m    486\u001b[0m             raise CalledProcessError(retcode, process.args,\n\u001b[0;32m--> 487\u001b[0;31m                                      output=stdout, stderr=stderr)\n\u001b[0m\u001b[1;32m    488\u001b[0m     \u001b[0;32mreturn\u001b[0m \u001b[0mCompletedProcess\u001b[0m\u001b[0;34m(\u001b[0m\u001b[0mprocess\u001b[0m\u001b[0;34m.\u001b[0m\u001b[0margs\u001b[0m\u001b[0;34m,\u001b[0m \u001b[0mretcode\u001b[0m\u001b[0;34m,\u001b[0m \u001b[0mstdout\u001b[0m\u001b[0;34m,\u001b[0m \u001b[0mstderr\u001b[0m\u001b[0;34m)\u001b[0m\u001b[0;34m\u001b[0m\u001b[0;34m\u001b[0m\u001b[0m\n\u001b[1;32m    489\u001b[0m \u001b[0;34m\u001b[0m\u001b[0m\n",
      "\u001b[0;31mCalledProcessError\u001b[0m: Command 'cp2k.sopt -o .//si_bulk.out -i .//si_bulk.inp' returned non-zero exit status 134."
     ]
    }
   ],
   "source": [
    "#============ Run the simulation or just write the input file ================\n",
    "calc.write_input_file()\n",
    "calc.run()"
   ]
  },
  {
   "cell_type": "code",
   "execution_count": null,
   "metadata": {},
   "outputs": [],
   "source": []
  }
 ],
 "metadata": {
  "kernelspec": {
   "display_name": "Python 3",
   "language": "python",
   "name": "python3"
  },
  "language_info": {
   "codemirror_mode": {
    "name": "ipython",
    "version": 3
   },
   "file_extension": ".py",
   "mimetype": "text/x-python",
   "name": "python",
   "nbconvert_exporter": "python",
   "pygments_lexer": "ipython3",
   "version": "3.7.3"
  }
 },
 "nbformat": 4,
 "nbformat_minor": 2
}
